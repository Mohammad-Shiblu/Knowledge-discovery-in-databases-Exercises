{
 "cells": [
  {
   "cell_type": "markdown",
   "metadata": {
    "tags": [
     "specification"
    ]
   },
   "source": [
    "# Exercise 2: Get to know Python "
   ]
  },
  {
   "cell_type": "markdown",
   "metadata": {
    "tags": [
     "specification"
    ]
   },
   "source": [
    "Python is a high-level, general-purpose programming language that is highly flexible. For example, Python can be used effortlessly for simple mathematical calculations.\n",
    "\n",
    "<div class=\"alert alert-info\" role=\"alert\">\n",
    "\n",
    "**Task 1**:\n",
    "    \n",
    "In the box below, enter a simple mathematical calculation (such as `1+2`) and press the execute button.\n",
    "\n",
    "</div>"
   ]
  },
  {
   "cell_type": "code",
   "execution_count": 1,
   "metadata": {
    "tags": [
     "student"
    ]
   },
   "outputs": [
    {
     "data": {
      "text/plain": [
       "3"
      ]
     },
     "execution_count": 1,
     "metadata": {},
     "output_type": "execute_result"
    }
   ],
   "source": [
    "a = 1\n",
    "b = 2\n",
    "c  = a + b\n",
    "c"
   ]
  },
  {
   "cell_type": "markdown",
   "metadata": {
    "tags": [
     "specification"
    ]
   },
   "source": [
    "Values can be defined elsewhere, rather than directly in the calculation. The placeholders for these values are called `variables`.\n",
    "\n",
    "<div class=\"alert alert-info\" role=\"alert\">\n",
    "\n",
    "**Task 2**:\n",
    "    \n",
    "Add a line to the code below where the variables `x` and `y` are added together, and execute the code.\n",
    "\n",
    "</div>"
   ]
  },
  {
   "cell_type": "code",
   "execution_count": 2,
   "metadata": {
    "tags": [
     "student"
    ]
   },
   "outputs": [],
   "source": [
    "x = 1\n",
    "y = 2"
   ]
  },
  {
   "cell_type": "markdown",
   "metadata": {
    "tags": [
     "specification"
    ]
   },
   "source": [
    "It is important to note that variables are always internally associated with a so-called data type. Thus, in addition to variables containing numerical values, there are also variables that contain text."
   ]
  },
  {
   "cell_type": "code",
   "execution_count": 3,
   "metadata": {
    "tags": [
     "specification"
    ]
   },
   "outputs": [],
   "source": [
    "text = \"Woof\"  # Variable containing a text\n",
    "number = 1  # Variable containing a number"
   ]
  },
  {
   "cell_type": "markdown",
   "metadata": {
    "tags": [
     "specification"
    ]
   },
   "source": [
    "It is important to know the data type of a variable, as different operations may function differently or may not work at all with different data types.\n",
    "\n",
    "<div class=\"alert alert-info\" role=\"alert\">\n",
    "\n",
    "**Task 3**:\n",
    "    \n",
    "Execute the code examples provided below and describe how the `+` operation behaves with the different data types.\n",
    "\n",
    "</div>"
   ]
  },
  {
   "cell_type": "code",
   "execution_count": 4,
   "metadata": {
    "tags": [
     "student"
    ]
   },
   "outputs": [
    {
     "data": {
      "text/plain": [
       "2"
      ]
     },
     "execution_count": 4,
     "metadata": {},
     "output_type": "execute_result"
    }
   ],
   "source": [
    "number + number"
   ]
  },
  {
   "cell_type": "code",
   "execution_count": 5,
   "metadata": {
    "tags": [
     "student"
    ]
   },
   "outputs": [
    {
     "data": {
      "text/plain": [
       "'WoofWoof'"
      ]
     },
     "execution_count": 5,
     "metadata": {},
     "output_type": "execute_result"
    }
   ],
   "source": [
    "text + text"
   ]
  },
  {
   "cell_type": "code",
   "execution_count": 6,
   "metadata": {
    "tags": [
     "student"
    ]
   },
   "outputs": [
    {
     "ename": "TypeError",
     "evalue": "can only concatenate str (not \"int\") to str",
     "output_type": "error",
     "traceback": [
      "\u001b[1;31m---------------------------------------------------------------------------\u001b[0m",
      "\u001b[1;31mTypeError\u001b[0m                                 Traceback (most recent call last)",
      "Cell \u001b[1;32mIn[6], line 1\u001b[0m\n\u001b[1;32m----> 1\u001b[0m \u001b[43mtext\u001b[49m\u001b[43m \u001b[49m\u001b[38;5;241;43m+\u001b[39;49m\u001b[43m \u001b[49m\u001b[43mnumber\u001b[49m\n",
      "\u001b[1;31mTypeError\u001b[0m: can only concatenate str (not \"int\") to str"
     ]
    }
   ],
   "source": [
    "text + number"
   ]
  },
  {
   "cell_type": "code",
   "execution_count": 7,
   "metadata": {
    "tags": [
     "student"
    ]
   },
   "outputs": [
    {
     "ename": "TypeError",
     "evalue": "unsupported operand type(s) for +: 'int' and 'str'",
     "output_type": "error",
     "traceback": [
      "\u001b[1;31m---------------------------------------------------------------------------\u001b[0m",
      "\u001b[1;31mTypeError\u001b[0m                                 Traceback (most recent call last)",
      "Cell \u001b[1;32mIn[7], line 1\u001b[0m\n\u001b[1;32m----> 1\u001b[0m \u001b[43mnumber\u001b[49m\u001b[43m \u001b[49m\u001b[38;5;241;43m+\u001b[39;49m\u001b[43m \u001b[49m\u001b[43mtext\u001b[49m\n",
      "\u001b[1;31mTypeError\u001b[0m: unsupported operand type(s) for +: 'int' and 'str'"
     ]
    }
   ],
   "source": [
    "number + text"
   ]
  },
  {
   "cell_type": "markdown",
   "metadata": {
    "tags": [
     "specification"
    ]
   },
   "source": [
    "To state that `number` is of the data type Number and `text` is of the data type Text, however, is a simplification.\n",
    "\n",
    "<div class=\"alert alert-info\" role=\"alert\">\n",
    "\n",
    "**Task 4**:\n",
    "    \n",
    "Execute the code examples provided below and get to know the true data types of `number` and `text`.\n",
    "\n",
    "</div>"
   ]
  },
  {
   "cell_type": "code",
   "execution_count": 8,
   "metadata": {
    "tags": [
     "student"
    ]
   },
   "outputs": [
    {
     "name": "stdout",
     "output_type": "stream",
     "text": [
      "Variable text = Woof is of type <class 'str'>\n",
      "Variable number = 1 is of type <class 'int'>\n"
     ]
    }
   ],
   "source": [
    "print(\"Variable text =\", text, \"is of type\", type(text))\n",
    "print(\"Variable number =\", number, \"is of type\", type(number))"
   ]
  },
  {
   "cell_type": "markdown",
   "metadata": {
    "tags": [
     "specification"
    ]
   },
   "source": [
    "In addition to these data types, Python directly offers several others.\n",
    "\n",
    "<div class=\"alert alert-info\" role=\"alert\">\n",
    "\n",
    "**Task 5**:\n",
    "    \n",
    "Use the [Python documentation](https://docs.python.org/3.8/library/stdtypes.html) to find out which numeric data types other than `int` are built into Python. Enter an example of each as code.\n",
    "\n",
    "</div>"
   ]
  },
  {
   "cell_type": "code",
   "execution_count": 11,
   "metadata": {
    "tags": [
     "student"
    ]
   },
   "outputs": [
    {
     "name": "stdout",
     "output_type": "stream",
     "text": [
      "variable float_num = 3.14 is of type <class 'float'>\n",
      "variable complex_num = (2+3j) is of type <class 'complex'>\n"
     ]
    }
   ],
   "source": [
    "float_num = 3.14\n",
    "complex_num = 2 + 3j\n",
    "\n",
    "print(\"variable float_num =\", float_num, \"is of type\", type(float_num))\n",
    "print(\"variable complex_num =\", complex_num, \"is of type\", type(complex_num))"
   ]
  },
  {
   "cell_type": "markdown",
   "metadata": {
    "tags": [
     "specification"
    ]
   },
   "source": [
    "In Python, numerical data types are also utilized to store truth values.\n",
    "\n",
    "<div class=\"alert alert-info\" role=\"alert\">\n",
    "\n",
    "**Task 6**:\n",
    "    \n",
    "Determine which data type is used for the truth values listed below. Refer to the [Python documentation](https://docs.python.org/3.8/library/stdtypes.html) to understand why this data type is also considered a numerical data type.\n",
    "\n",
    "</div>"
   ]
  },
  {
   "cell_type": "code",
   "execution_count": 12,
   "metadata": {
    "tags": [
     "student"
    ]
   },
   "outputs": [
    {
     "name": "stdout",
     "output_type": "stream",
     "text": [
      "variable truth_value_true = True is of type <class 'bool'>\n",
      "variable truth_value_false= False  is of type <class 'bool'>\n"
     ]
    }
   ],
   "source": [
    "truth_value_true = True\n",
    "truth_value_false = False\n",
    "print(\"variable truth_value_true =\", truth_value_true, \"is of type\", type(truth_value_true))\n",
    "print(\"variable truth_value_false=\", truth_value_false, \" is of type\", type(truth_value_false))"
   ]
  },
  {
   "cell_type": "markdown",
   "metadata": {
    "tags": [
     "specification"
    ]
   },
   "source": [
    "In addition to individual values, a variable can also store multiple values.\n",
    "\n",
    "<div class=\"alert alert-info\" role=\"alert\">\n",
    "\n",
    "**Task 7**:\n",
    "    \n",
    "Take a look at the data types `list`, `tuple`, `set`, and `dictionary` in the Python documentation. Provide a brief example for each data type below and explain the differences between these data types.\n",
    "\n",
    "</div>"
   ]
  },
  {
   "cell_type": "code",
   "execution_count": 13,
   "metadata": {
    "tags": [
     "student"
    ]
   },
   "outputs": [],
   "source": [
    "# list\n",
    "list_variable = [1, 2, 3]\n",
    "# A list is a collection which is ordered and changeable. It allows duplicate members. Different data types are allowed.\n",
    "\n",
    "# Tuple\n",
    "tuple_variable = (1, 2, 3)\n",
    "# A tuple is a collection which is ordered and unchangeable. It allows duplicate members. Different data types are allowed.\n",
    "\n",
    "# Set\n",
    "set_variable = {1, 2, 3}\n",
    "# A set is a collection which is unordered and unindexed. No duplicate members. Different data types are allowed.\n",
    "\n",
    "# Dictionary\n",
    "dictionary_variable = {\"key1\": 1, \"key2\": 2, \"key3\": 3}\n",
    "# A dictionary is a collection which is unordered, changeable and indexed. No duplicate members. Different data types are allowed."
   ]
  },
  {
   "cell_type": "markdown",
   "metadata": {
    "tags": [
     "specification"
    ]
   },
   "source": [
    "Depending on which data type has been selected, it may also be possible to access individual values. \n",
    "\n",
    "<div class=\"alert alert-info\" role=\"alert\">\n",
    "\n",
    "**Task 8**:\n",
    "    \n",
    "Access the value `42` in each of the following variables. \n",
    "\n",
    "</div>"
   ]
  },
  {
   "cell_type": "code",
   "execution_count": 14,
   "metadata": {
    "tags": [
     "student"
    ]
   },
   "outputs": [
    {
     "data": {
      "text/plain": [
       "42"
      ]
     },
     "execution_count": 14,
     "metadata": {},
     "output_type": "execute_result"
    }
   ],
   "source": [
    "# Variable\n",
    "variable_1 = [23, 42, 12]\n",
    "variable_1[1]"
   ]
  },
  {
   "cell_type": "code",
   "execution_count": 16,
   "metadata": {
    "tags": [
     "student"
    ]
   },
   "outputs": [
    {
     "data": {
      "text/plain": [
       "42"
      ]
     },
     "execution_count": 16,
     "metadata": {},
     "output_type": "execute_result"
    }
   ],
   "source": [
    "# Variable\n",
    "variable_2 = (42, 11, 1)\n",
    "variable_2[0]"
   ]
  },
  {
   "cell_type": "code",
   "execution_count": 17,
   "metadata": {
    "tags": [
     "student"
    ]
   },
   "outputs": [
    {
     "data": {
      "text/plain": [
       "42"
      ]
     },
     "execution_count": 17,
     "metadata": {},
     "output_type": "execute_result"
    }
   ],
   "source": [
    "# Variable\n",
    "variable_3 = {\"best_grade\": 1, \"answer_to_everything\": 42}\n",
    "variable_3[\"answer_to_everything\"]"
   ]
  },
  {
   "cell_type": "code",
   "execution_count": 20,
   "metadata": {
    "tags": [
     "student"
    ]
   },
   "outputs": [
    {
     "data": {
      "text/plain": [
       "42"
      ]
     },
     "execution_count": 20,
     "metadata": {},
     "output_type": "execute_result"
    }
   ],
   "source": [
    "# Variable\n",
    "variable_4 = [{\"best_grade\": 1, \"worst_grade\": 6}, {\"answer_to_everything\": 42}]\n",
    "variable_4[1][\"answer_to_everything\"]"
   ]
  },
  {
   "cell_type": "markdown",
   "metadata": {
    "tags": [
     "specification"
    ]
   },
   "source": [
    "<div class=\"alert alert-info\" role=\"alert\">\n",
    "\n",
    "**Task 9**:\n",
    "    \n",
    "Why does the following access not work?\n",
    "\n",
    "</div>"
   ]
  },
  {
   "cell_type": "code",
   "execution_count": 22,
   "metadata": {
    "tags": [
     "student"
    ]
   },
   "outputs": [
    {
     "ename": "TypeError",
     "evalue": "'set' object is not subscriptable",
     "output_type": "error",
     "traceback": [
      "\u001b[1;31m---------------------------------------------------------------------------\u001b[0m",
      "\u001b[1;31mTypeError\u001b[0m                                 Traceback (most recent call last)",
      "Cell \u001b[1;32mIn[22], line 5\u001b[0m\n\u001b[0;32m      2\u001b[0m variable_5 \u001b[38;5;241m=\u001b[39m {\u001b[38;5;241m1\u001b[39m, \u001b[38;5;241m6\u001b[39m, \u001b[38;5;241m42\u001b[39m}\n\u001b[0;32m      4\u001b[0m \u001b[38;5;66;03m# Access the value \"42\"\u001b[39;00m\n\u001b[1;32m----> 5\u001b[0m \u001b[43mvariable_5\u001b[49m\u001b[43m[\u001b[49m\u001b[38;5;241;43m2\u001b[39;49m\u001b[43m]\u001b[49m\n",
      "\u001b[1;31mTypeError\u001b[0m: 'set' object is not subscriptable"
     ]
    }
   ],
   "source": [
    "# Variable\n",
    "variable_5 = {1, 6, 42}\n",
    "\n",
    "# Access the value \"42\"\n",
    "variable_5[2]\n",
    "\n",
    "# Sets are unordered, so you cannot access items by index."
   ]
  },
  {
   "cell_type": "markdown",
   "metadata": {
    "tags": [
     "specification"
    ]
   },
   "source": [
    "<div class=\"alert alert-info\" role=\"alert\">\n",
    "\n",
    "**Task 10**:\n",
    "    \n",
    "Refer to the Python documentation and search for a method to at least verify the presence of the value `42` in the set. The output should be a boolean (`True`/`False`).\n",
    "\n",
    "</div>"
   ]
  },
  {
   "cell_type": "code",
   "execution_count": 23,
   "metadata": {
    "tags": [
     "student"
    ]
   },
   "outputs": [
    {
     "data": {
      "text/plain": [
       "True"
      ]
     },
     "execution_count": 23,
     "metadata": {},
     "output_type": "execute_result"
    }
   ],
   "source": [
    "a = 42 in variable_5\n",
    "a"
   ]
  },
  {
   "cell_type": "markdown",
   "metadata": {
    "tags": [
     "specification"
    ]
   },
   "source": [
    "In Python, there are control structures use boolean values to distinguish between different behaviors.\n",
    "\n",
    "<div class=\"alert alert-info\" role=\"alert\">\n",
    "\n",
    "**Task 11**:\n",
    "    \n",
    "Refer to the [Python documentation](https://docs.python.org/3.8/tutorial/controlflow.html) to understand `if` statements. \n",
    "\n",
    "Modify the the code below to print the statements only when the corresponding situation has occurred.\n",
    "\n",
    "</div>"
   ]
  },
  {
   "cell_type": "code",
   "execution_count": 24,
   "metadata": {
    "tags": [
     "student"
    ]
   },
   "outputs": [
    {
     "name": "stdout",
     "output_type": "stream",
     "text": [
      "42 is not in the set, but there is a 5\n"
     ]
    }
   ],
   "source": [
    "variable_6 = {1,2,3,4,5}\n",
    "\n",
    "if 42 in variable_6:\n",
    "    print(\"42 is in the set\")\n",
    "elif 5 in variable_6:\n",
    "    print(\"42 is not in the set, but there is a 5\")\n",
    "else:\n",
    "    print(\"Neither 42 nor 5 are in the set\")\n"
   ]
  },
  {
   "cell_type": "markdown",
   "metadata": {
    "tags": [
     "specification"
    ]
   },
   "source": [
    "Mathematical comparison operators also return booleans that can be used in control structures.\n",
    "\n",
    "<div class=\"alert alert-info\" role=\"alert\">\n",
    "\n",
    "**Task 12**:\n",
    "    \n",
    "Refer to the [Python documentation](https://docs.python.org/3.8/reference/compound_stmts.html#while) to understand `while` statements. \n",
    "\n",
    "Modify the code below, to add `1` to the counter as long as it is below the count of `6`.\n",
    "\n",
    "</div>"
   ]
  },
  {
   "cell_type": "code",
   "execution_count": 25,
   "metadata": {
    "tags": [
     "student"
    ]
   },
   "outputs": [
    {
     "name": "stdout",
     "output_type": "stream",
     "text": [
      "Counter is at  0\n",
      "Counter is at  1\n",
      "Counter is at  2\n",
      "Counter is at  3\n",
      "Counter is at  4\n",
      "Counter is at  5\n",
      "Final count is 6\n"
     ]
    }
   ],
   "source": [
    "counter = 0\n",
    "\n",
    "while counter <= 5:\n",
    "    print(\"Counter is at \", counter)\n",
    "    counter += 1\n",
    "\n",
    "print (\"Final count is\", counter)"
   ]
  },
  {
   "cell_type": "markdown",
   "metadata": {
    "tags": [
     "specification"
    ]
   },
   "source": [
    "A control structure that does not directly utilize booleans is the `for` loop. \n",
    "\n",
    "<div class=\"alert alert-info\" role=\"alert\">\n",
    "\n",
    "**Task 13**:\n",
    "    \n",
    "Refer to the [Python documentation](https://docs.python.org/3.8/tutorial/controlflow.html) to understand `for` statements. \n",
    "\n",
    "Write a `for`-loop printing all the values within the given `set_variable`.\n",
    "\n",
    "</div>"
   ]
  },
  {
   "cell_type": "code",
   "execution_count": 26,
   "metadata": {
    "tags": [
     "student"
    ]
   },
   "outputs": [
    {
     "name": "stdout",
     "output_type": "stream",
     "text": [
      "1\n",
      "4\n",
      "7\n",
      "9\n",
      "11\n"
     ]
    }
   ],
   "source": [
    "set_variable = {1, 4, 7, 9, 11}\n",
    "for var in set_variable:\n",
    "    print(var)"
   ]
  },
  {
   "cell_type": "markdown",
   "metadata": {
    "tags": [
     "specification"
    ]
   },
   "source": [
    "When there is a task that needs to be performed repeatedly, it is advisable to encapsulate this task within a function.\n",
    "\n",
    "<div class=\"alert alert-info\" role=\"alert\">\n",
    "\n",
    "**Task 14**:\n",
    "    \n",
    "Take a look at [W3Schools introduction of Python functions](https://www.w3schools.com/python/python_functions.asp) and add a function call to the code below. \n",
    "\n",
    "</div>"
   ]
  },
  {
   "cell_type": "code",
   "execution_count": 27,
   "metadata": {
    "tags": [
     "student"
    ]
   },
   "outputs": [
    {
     "data": {
      "text/plain": [
       "5"
      ]
     },
     "execution_count": 27,
     "metadata": {},
     "output_type": "execute_result"
    }
   ],
   "source": [
    "def absolute_value(x):\n",
    "    # If x is negative, reverse the sign\n",
    "    if x < 0:\n",
    "        return -x\n",
    "    else:\n",
    "        return x\n",
    "    \n",
    "absolute_value(-5)"
   ]
  },
  {
   "cell_type": "markdown",
   "metadata": {
    "tags": [
     "specification"
    ]
   },
   "source": [
    "Functions within a Jupyter Notebook can also be used in other code cells, as long as these cells are executed after the cell that defines the function.\n",
    "\n",
    "<div class=\"alert alert-info\" role=\"alert\">\n",
    "\n",
    "**Task 15**:\n",
    "    \n",
    "Try what happens if you call `absolute_value` with a string as parameter.\n",
    "\n",
    "</div>"
   ]
  },
  {
   "cell_type": "code",
   "execution_count": 28,
   "metadata": {
    "tags": [
     "student"
    ]
   },
   "outputs": [
    {
     "ename": "TypeError",
     "evalue": "'<' not supported between instances of 'str' and 'int'",
     "output_type": "error",
     "traceback": [
      "\u001b[1;31m---------------------------------------------------------------------------\u001b[0m",
      "\u001b[1;31mTypeError\u001b[0m                                 Traceback (most recent call last)",
      "Cell \u001b[1;32mIn[28], line 1\u001b[0m\n\u001b[1;32m----> 1\u001b[0m \u001b[43mabsolute_value\u001b[49m\u001b[43m(\u001b[49m\u001b[38;5;124;43m\"\u001b[39;49m\u001b[38;5;124;43ma\u001b[39;49m\u001b[38;5;124;43m\"\u001b[39;49m\u001b[43m)\u001b[49m\n",
      "Cell \u001b[1;32mIn[27], line 3\u001b[0m, in \u001b[0;36mabsolute_value\u001b[1;34m(x)\u001b[0m\n\u001b[0;32m      1\u001b[0m \u001b[38;5;28;01mdef\u001b[39;00m \u001b[38;5;21mabsolute_value\u001b[39m(x):\n\u001b[0;32m      2\u001b[0m     \u001b[38;5;66;03m# If x is negative, reverse the sign\u001b[39;00m\n\u001b[1;32m----> 3\u001b[0m     \u001b[38;5;28;01mif\u001b[39;00m \u001b[43mx\u001b[49m\u001b[43m \u001b[49m\u001b[38;5;241;43m<\u001b[39;49m\u001b[43m \u001b[49m\u001b[38;5;241;43m0\u001b[39;49m:\n\u001b[0;32m      4\u001b[0m         \u001b[38;5;28;01mreturn\u001b[39;00m \u001b[38;5;241m-\u001b[39mx\n\u001b[0;32m      5\u001b[0m     \u001b[38;5;28;01melse\u001b[39;00m:\n",
      "\u001b[1;31mTypeError\u001b[0m: '<' not supported between instances of 'str' and 'int'"
     ]
    }
   ],
   "source": [
    "absolute_value(\"a\") # Error"
   ]
  },
  {
   "cell_type": "markdown",
   "metadata": {
    "tags": [
     "specification"
    ]
   },
   "source": [
    "Best practice dictates that at the beginning of a function, one should always check whether a variable has the correct data type and, if necessary, whether it falls within the expected specifications (for example, if only values greater than 1000 are anticipated).\n",
    "\n",
    "<div class=\"alert alert-info\" role=\"alert\">\n",
    "\n",
    "**Task 16**:\n",
    "    \n",
    "Augment the function `absolute_value` with a check that verifies whether the input is an `int` or a `float`. In all other cases, a `ValueError` ([Python documentation](https://docs.python.org/3.8/library/exceptions.html?highlight=valueerror#ValueError)) should be thrown.\n",
    "\n",
    "</div>"
   ]
  },
  {
   "cell_type": "code",
   "execution_count": 31,
   "metadata": {
    "tags": [
     "student"
    ]
   },
   "outputs": [
    {
     "ename": "ValueError",
     "evalue": "x must be an int or float",
     "output_type": "error",
     "traceback": [
      "\u001b[1;31m---------------------------------------------------------------------------\u001b[0m",
      "\u001b[1;31mValueError\u001b[0m                                Traceback (most recent call last)",
      "Cell \u001b[1;32mIn[31], line 12\u001b[0m\n\u001b[0;32m      9\u001b[0m     \u001b[38;5;28;01melse\u001b[39;00m:\n\u001b[0;32m     10\u001b[0m         \u001b[38;5;28;01mreturn\u001b[39;00m x\n\u001b[1;32m---> 12\u001b[0m \u001b[43mabsolute_value\u001b[49m\u001b[43m(\u001b[49m\u001b[38;5;124;43m\"\u001b[39;49m\u001b[38;5;124;43mtest\u001b[39;49m\u001b[38;5;124;43m\"\u001b[39;49m\u001b[43m)\u001b[49m\n",
      "Cell \u001b[1;32mIn[31], line 4\u001b[0m, in \u001b[0;36mabsolute_value\u001b[1;34m(x)\u001b[0m\n\u001b[0;32m      1\u001b[0m \u001b[38;5;28;01mdef\u001b[39;00m \u001b[38;5;21mabsolute_value\u001b[39m(x):\n\u001b[0;32m      2\u001b[0m     \u001b[38;5;66;03m# If x is not a int or float, throw a ValueError\u001b[39;00m\n\u001b[0;32m      3\u001b[0m     \u001b[38;5;28;01mif\u001b[39;00m \u001b[38;5;28mtype\u001b[39m(x) \u001b[38;5;129;01mnot\u001b[39;00m \u001b[38;5;129;01min\u001b[39;00m [\u001b[38;5;28mint\u001b[39m, \u001b[38;5;28mfloat\u001b[39m]:\n\u001b[1;32m----> 4\u001b[0m         \u001b[38;5;28;01mraise\u001b[39;00m \u001b[38;5;167;01mValueError\u001b[39;00m(\u001b[38;5;124m\"\u001b[39m\u001b[38;5;124mx must be an int or float\u001b[39m\u001b[38;5;124m\"\u001b[39m)\n\u001b[0;32m      6\u001b[0m     \u001b[38;5;66;03m# If x is negative, reverse the sign\u001b[39;00m\n\u001b[0;32m      7\u001b[0m     \u001b[38;5;28;01mif\u001b[39;00m x \u001b[38;5;241m<\u001b[39m \u001b[38;5;241m0\u001b[39m:\n",
      "\u001b[1;31mValueError\u001b[0m: x must be an int or float"
     ]
    }
   ],
   "source": [
    "def absolute_value(x):\n",
    "    # If x is not a int or float, throw a ValueError\n",
    "    if type(x) not in [int, float]:\n",
    "        raise ValueError(\"x must be an int or float\")\n",
    "\n",
    "    # If x is negative, reverse the sign\n",
    "    if x < 0:\n",
    "        return -x\n",
    "    else:\n",
    "        return x\n",
    "\n",
    "absolute_value(\"test\")"
   ]
  },
  {
   "cell_type": "markdown",
   "metadata": {
    "tags": [
     "specification"
    ]
   },
   "source": [
    "Another important structure in Python consists of classes. Classes essentially act as blueprints for objects, possessing variables and functions uniquely associated with these objects.\n",
    "\n",
    "When there is a task that needs to be performed repeatedly, it is advisable to encapsulate this task within a function.\n",
    "\n",
    "<div class=\"alert alert-info\" role=\"alert\">\n",
    "\n",
    "**Task 17**:\n",
    "    \n",
    "Take a look at [W3Schools introduction of Python classes](https://www.w3schools.com/python/python_classes.asp) and use the class `Car` to create a `BMUU` (Brand) `Striker` (Model) with a maximum speed of `175` km/h.\n",
    "\n",
    "After you have created the object, calculate the time required to travel `100` km if traveling a maximum speed. Use `travel_time_at_max_speed`.\n",
    "\n",
    "</div>"
   ]
  },
  {
   "cell_type": "code",
   "execution_count": 32,
   "metadata": {
    "tags": [
     "student"
    ]
   },
   "outputs": [
    {
     "data": {
      "text/plain": [
       "3.4615384615384617"
      ]
     },
     "execution_count": 32,
     "metadata": {},
     "output_type": "execute_result"
    }
   ],
   "source": [
    "class Car:\n",
    "    def __init__(self, brand, model, max_speed):\n",
    "        # If brand is not a string, throw an error\n",
    "        if type(brand) != str:\n",
    "            raise ValueError(\"brand must be a string\")\n",
    "\n",
    "        # If model is not a string, throw an error\n",
    "        if type(model) != str:\n",
    "            raise ValueError(\"model must be a string\")\n",
    "\n",
    "        # If max_speed is not a int or float, throw an error\n",
    "        if type(max_speed) not in [int, float]:\n",
    "            raise ValueError(\"max_speed must be an int or a float\")\n",
    "\n",
    "        self.brand = brand\n",
    "        self.model = model\n",
    "        self.max_speed = max_speed  # In km/h\n",
    "\n",
    "    def travel_time_at_max_speed(\n",
    "        self, distance\n",
    "    ):  # Distance is in km, travel time is in hours\n",
    "        # If distance is not a int or float, throw an error\n",
    "        if type(distance) not in [int, float]:\n",
    "            raise ValueError(\"distance must be an int or a float\")\n",
    "\n",
    "        return distance / self.max_speed\n",
    "    \n",
    "car_a = Car(\"Toyota\", \"Premio\", 130)\n",
    "car_a.travel_time_at_max_speed(450)"
   ]
  },
  {
   "cell_type": "markdown",
   "metadata": {
    "tags": [
     "specification"
    ]
   },
   "source": [
    "Of course, Python is capable of much more, but this should suffice as an introduction to Python for now.\n",
    "\n",
    "However, over the course of the semester, you will most likely require additional constructs. Remember the [Python documentation](https://docs.python.org/3.8/library/index.html) and [W3Schools](https://www.w3schools.com/python/default.asp). It is less important to know constructs by heart immediately than to know where to look them up to understand them."
   ]
  }
 ],
 "metadata": {
  "celltoolbar": "Tags",
  "interpreter": {
   "hash": "d634d9120e07fcb10ea4e2485f922980f44c65c5790b35d436a0dd63f2b90915"
  },
  "kernelspec": {
   "display_name": "Python (tensor)",
   "language": "python",
   "name": "tensor"
  },
  "language_info": {
   "codemirror_mode": {
    "name": "ipython",
    "version": 3
   },
   "file_extension": ".py",
   "mimetype": "text/x-python",
   "name": "python",
   "nbconvert_exporter": "python",
   "pygments_lexer": "ipython3",
   "version": "3.9.19"
  }
 },
 "nbformat": 4,
 "nbformat_minor": 2
}
